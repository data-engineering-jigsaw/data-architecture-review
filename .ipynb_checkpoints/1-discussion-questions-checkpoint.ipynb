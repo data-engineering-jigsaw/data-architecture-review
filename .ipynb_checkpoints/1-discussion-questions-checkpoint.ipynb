{
 "cells": [
  {
   "cell_type": "markdown",
   "id": "36f4e81e-d291-41ed-a55c-76c4b8661dee",
   "metadata": {},
   "source": [
    "# Data Architecture Review"
   ]
  },
  {
   "cell_type": "markdown",
   "id": "2f2b17ac-5d76-4ea2-9676-5c4d51f29a64",
   "metadata": {},
   "source": [
    "### Introduction"
   ]
  },
  {
   "cell_type": "markdown",
   "id": "a32134b7-0045-4639-941a-27ef4797278c",
   "metadata": {},
   "source": [
    "In this lesson, we'll review some of the concepts about our data engineering stack."
   ]
  },
  {
   "cell_type": "markdown",
   "id": "2beb96ed-4424-4c88-aeb5-ed9dd805d9d1",
   "metadata": {},
   "source": [
    "### Reviewing redshift"
   ]
  },
  {
   "cell_type": "markdown",
   "id": "0ec73e4d-9809-4d9e-9ed1-c540c77e1243",
   "metadata": {},
   "source": [
    "* What is column based storage vs row based storage -- what type of storage does analytical databases like redshift employ, and why."
   ]
  },
  {
   "cell_type": "markdown",
   "id": "687b7d73-5476-447b-9ba7-0d844ae8a694",
   "metadata": {},
   "source": [
    "* Describe how redshift employs the map reduce strategy.  Try to use the terms leader node, compute node, and slice in your answer.  It may help to draw out a diagram."
   ]
  },
  {
   "cell_type": "markdown",
   "id": "31b0df1a-9b6f-4053-960b-6b51ccdc9d33",
   "metadata": {},
   "source": [
    "### Data Architecture"
   ]
  },
  {
   "cell_type": "markdown",
   "id": "3331a49b-f3bd-41c2-b98d-19f67780247f",
   "metadata": {},
   "source": [
    "* Remember that a data lakehouse combines a data lake and a data warehouse.  Let's discuss each.\n",
    "\n",
    "#### Data lakes\n",
    "* What is a data lake?"
   ]
  },
  {
   "cell_type": "markdown",
   "id": "8585fc41-8ab2-41dc-8a11-e0d72ae3f3f0",
   "metadata": {},
   "source": [
    "* What technologies are employed in the data lake?\n"
   ]
  },
  {
   "cell_type": "markdown",
   "id": "461c0660-2471-44f2-9234-c535d5e8d947",
   "metadata": {},
   "source": [
    "* What are advantages of a data lake instead of a data warehouse?\n",
    "\n",
    "* Disadvantages?"
   ]
  },
  {
   "cell_type": "markdown",
   "id": "5fdcca55-321b-441c-a850-ce0b545b9526",
   "metadata": {},
   "source": [
    "* Who are typical end users of a data lake vs a data warehouse?\n",
    "    \n"
   ]
  },
  {
   "cell_type": "markdown",
   "id": "856a95bf-d2c6-4300-8ba7-92c575a39b00",
   "metadata": {},
   "source": [
    "#### Data warehouse"
   ]
  },
  {
   "cell_type": "markdown",
   "id": "d68a6872-7ad2-42c1-9fb5-2b9e19d871a6",
   "metadata": {},
   "source": [
    "* What is a data warehouse?\n",
    "    "
   ]
  },
  {
   "cell_type": "markdown",
   "id": "6ea8507a-ead2-4dd5-8007-0a9db4d414a7",
   "metadata": {},
   "source": [
    "* Who are the typical end users of a data warehouse?\n",
    "    "
   ]
  },
  {
   "cell_type": "markdown",
   "id": "a50ea0e9-95ae-497f-8a1e-319d136fcc95",
   "metadata": {},
   "source": [
    "* What role does staging play in a data warehouse, and why may we want to take advantage of a staging layer?"
   ]
  },
  {
   "cell_type": "markdown",
   "id": "c7c69d42-21ea-4e3c-aa91-d7c67872e3cd",
   "metadata": {},
   "source": [
    "### Lakehouse Architecture"
   ]
  },
  {
   "cell_type": "markdown",
   "id": "b30c2850-d4ce-4971-894e-024474997a72",
   "metadata": {},
   "source": [
    "We blacked out a lot of the services used in our lakehouse diagram.  Fill our data engineering tools back in."
   ]
  },
  {
   "cell_type": "markdown",
   "id": "e2e48dde-b1d9-406d-b631-38b523f6e458",
   "metadata": {},
   "source": [
    "<img src=\"./lake-form.png\">"
   ]
  },
  {
   "cell_type": "markdown",
   "id": "43888382-a5e0-45d2-9d79-8d280fc9c898",
   "metadata": {},
   "source": [
    "It's fine to draw this out separately with pen and paper."
   ]
  },
  {
   "cell_type": "markdown",
   "id": "4d24a6c1-a8d2-4921-b9bd-4f0e08f16030",
   "metadata": {},
   "source": [
    "Then after spending some time, you can look at the answer from our past reading and then redraw your architecture with pen and paper."
   ]
  },
  {
   "cell_type": "code",
   "execution_count": null,
   "id": "1be46f3f-4214-4035-9161-67e95b6fbef9",
   "metadata": {},
   "outputs": [],
   "source": []
  }
 ],
 "metadata": {
  "kernelspec": {
   "display_name": "Python 3 (ipykernel)",
   "language": "python",
   "name": "python3"
  },
  "language_info": {
   "codemirror_mode": {
    "name": "ipython",
    "version": 3
   },
   "file_extension": ".py",
   "mimetype": "text/x-python",
   "name": "python",
   "nbconvert_exporter": "python",
   "pygments_lexer": "ipython3",
   "version": "3.9.12"
  }
 },
 "nbformat": 4,
 "nbformat_minor": 5
}
