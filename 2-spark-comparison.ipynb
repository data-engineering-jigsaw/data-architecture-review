{
 "cells": [
  {
   "cell_type": "markdown",
   "id": "a8957ad8-74fe-4445-91ea-8d7c28cc892d",
   "metadata": {},
   "source": [
    "# Spark Comparison"
   ]
  },
  {
   "cell_type": "markdown",
   "id": "276864df-b286-4ac2-9d0e-2913c547c697",
   "metadata": {},
   "source": [
    "### What's next"
   ]
  },
  {
   "cell_type": "markdown",
   "id": "3760fefb-d5a9-46f3-ab78-e50f1354ad4e",
   "metadata": {},
   "source": [
    "* Read the first two lessons on Spark\n",
    "\n",
    "[1. Lesson](https://colab.research.google.com/github/jigsawlabs-student/pyspark-rdds/blob/main/0-spark-in-memory.ipynb)\n",
    "\n",
    "[2. Lesson](https://colab.research.google.com/github/jigsawlabs-student/pyspark-rdds/blob/main/1-spark-in-parallel.ipynb)"
   ]
  },
  {
   "cell_type": "markdown",
   "id": "33aeaa77-d3d9-42e2-8254-4531722c2df9",
   "metadata": {},
   "source": [
    "* What are some of the similarities of Spark with redshift?  What are some of the differences?\n",
    "\n",
    "* What are some of the similarities of Spark with Athena?  What are some of the differences?"
   ]
  }
 ],
 "metadata": {
  "kernelspec": {
   "display_name": "Python 3 (ipykernel)",
   "language": "python",
   "name": "python3"
  },
  "language_info": {
   "codemirror_mode": {
    "name": "ipython",
    "version": 3
   },
   "file_extension": ".py",
   "mimetype": "text/x-python",
   "name": "python",
   "nbconvert_exporter": "python",
   "pygments_lexer": "ipython3",
   "version": "3.9.12"
  }
 },
 "nbformat": 4,
 "nbformat_minor": 5
}
